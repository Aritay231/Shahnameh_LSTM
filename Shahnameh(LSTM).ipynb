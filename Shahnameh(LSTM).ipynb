{
  "nbformat": 4,
  "nbformat_minor": 0,
  "metadata": {
    "colab": {
      "provenance": []
    },
    "kernelspec": {
      "name": "python3",
      "display_name": "Python 3"
    },
    "language_info": {
      "name": "python"
    }
  },
  "cells": [
    {
      "cell_type": "code",
      "execution_count": null,
      "metadata": {
        "id": "_CwF8PeLyCp7"
      },
      "outputs": [],
      "source": [
        "import tensorflow as tf\n",
        "import numpy as np\n",
        "import os"
      ]
    },
    {
      "cell_type": "code",
      "source": [
        "from google.colab import files\n",
        "uploaded = files.upload()"
      ],
      "metadata": {
        "colab": {
          "base_uri": "https://localhost:8080/",
          "height": 38
        },
        "id": "f3pvEVDjyUwO",
        "outputId": "d23255e3-2fe6-4d28-b131-77b698f66319"
      },
      "execution_count": null,
      "outputs": [
        {
          "output_type": "display_data",
          "data": {
            "text/plain": [
              "<IPython.core.display.HTML object>"
            ],
            "text/html": [
              "\n",
              "     <input type=\"file\" id=\"files-dfc98ddb-42eb-45e1-b23a-7c1c7244a098\" name=\"files[]\" multiple disabled\n",
              "        style=\"border:none\" />\n",
              "     <output id=\"result-dfc98ddb-42eb-45e1-b23a-7c1c7244a098\">\n",
              "      Upload widget is only available when the cell has been executed in the\n",
              "      current browser session. Please rerun this cell to enable.\n",
              "      </output>\n",
              "      <script>// Copyright 2017 Google LLC\n",
              "//\n",
              "// Licensed under the Apache License, Version 2.0 (the \"License\");\n",
              "// you may not use this file except in compliance with the License.\n",
              "// You may obtain a copy of the License at\n",
              "//\n",
              "//      http://www.apache.org/licenses/LICENSE-2.0\n",
              "//\n",
              "// Unless required by applicable law or agreed to in writing, software\n",
              "// distributed under the License is distributed on an \"AS IS\" BASIS,\n",
              "// WITHOUT WARRANTIES OR CONDITIONS OF ANY KIND, either express or implied.\n",
              "// See the License for the specific language governing permissions and\n",
              "// limitations under the License.\n",
              "\n",
              "/**\n",
              " * @fileoverview Helpers for google.colab Python module.\n",
              " */\n",
              "(function(scope) {\n",
              "function span(text, styleAttributes = {}) {\n",
              "  const element = document.createElement('span');\n",
              "  element.textContent = text;\n",
              "  for (const key of Object.keys(styleAttributes)) {\n",
              "    element.style[key] = styleAttributes[key];\n",
              "  }\n",
              "  return element;\n",
              "}\n",
              "\n",
              "// Max number of bytes which will be uploaded at a time.\n",
              "const MAX_PAYLOAD_SIZE = 100 * 1024;\n",
              "\n",
              "function _uploadFiles(inputId, outputId) {\n",
              "  const steps = uploadFilesStep(inputId, outputId);\n",
              "  const outputElement = document.getElementById(outputId);\n",
              "  // Cache steps on the outputElement to make it available for the next call\n",
              "  // to uploadFilesContinue from Python.\n",
              "  outputElement.steps = steps;\n",
              "\n",
              "  return _uploadFilesContinue(outputId);\n",
              "}\n",
              "\n",
              "// This is roughly an async generator (not supported in the browser yet),\n",
              "// where there are multiple asynchronous steps and the Python side is going\n",
              "// to poll for completion of each step.\n",
              "// This uses a Promise to block the python side on completion of each step,\n",
              "// then passes the result of the previous step as the input to the next step.\n",
              "function _uploadFilesContinue(outputId) {\n",
              "  const outputElement = document.getElementById(outputId);\n",
              "  const steps = outputElement.steps;\n",
              "\n",
              "  const next = steps.next(outputElement.lastPromiseValue);\n",
              "  return Promise.resolve(next.value.promise).then((value) => {\n",
              "    // Cache the last promise value to make it available to the next\n",
              "    // step of the generator.\n",
              "    outputElement.lastPromiseValue = value;\n",
              "    return next.value.response;\n",
              "  });\n",
              "}\n",
              "\n",
              "/**\n",
              " * Generator function which is called between each async step of the upload\n",
              " * process.\n",
              " * @param {string} inputId Element ID of the input file picker element.\n",
              " * @param {string} outputId Element ID of the output display.\n",
              " * @return {!Iterable<!Object>} Iterable of next steps.\n",
              " */\n",
              "function* uploadFilesStep(inputId, outputId) {\n",
              "  const inputElement = document.getElementById(inputId);\n",
              "  inputElement.disabled = false;\n",
              "\n",
              "  const outputElement = document.getElementById(outputId);\n",
              "  outputElement.innerHTML = '';\n",
              "\n",
              "  const pickedPromise = new Promise((resolve) => {\n",
              "    inputElement.addEventListener('change', (e) => {\n",
              "      resolve(e.target.files);\n",
              "    });\n",
              "  });\n",
              "\n",
              "  const cancel = document.createElement('button');\n",
              "  inputElement.parentElement.appendChild(cancel);\n",
              "  cancel.textContent = 'Cancel upload';\n",
              "  const cancelPromise = new Promise((resolve) => {\n",
              "    cancel.onclick = () => {\n",
              "      resolve(null);\n",
              "    };\n",
              "  });\n",
              "\n",
              "  // Wait for the user to pick the files.\n",
              "  const files = yield {\n",
              "    promise: Promise.race([pickedPromise, cancelPromise]),\n",
              "    response: {\n",
              "      action: 'starting',\n",
              "    }\n",
              "  };\n",
              "\n",
              "  cancel.remove();\n",
              "\n",
              "  // Disable the input element since further picks are not allowed.\n",
              "  inputElement.disabled = true;\n",
              "\n",
              "  if (!files) {\n",
              "    return {\n",
              "      response: {\n",
              "        action: 'complete',\n",
              "      }\n",
              "    };\n",
              "  }\n",
              "\n",
              "  for (const file of files) {\n",
              "    const li = document.createElement('li');\n",
              "    li.append(span(file.name, {fontWeight: 'bold'}));\n",
              "    li.append(span(\n",
              "        `(${file.type || 'n/a'}) - ${file.size} bytes, ` +\n",
              "        `last modified: ${\n",
              "            file.lastModifiedDate ? file.lastModifiedDate.toLocaleDateString() :\n",
              "                                    'n/a'} - `));\n",
              "    const percent = span('0% done');\n",
              "    li.appendChild(percent);\n",
              "\n",
              "    outputElement.appendChild(li);\n",
              "\n",
              "    const fileDataPromise = new Promise((resolve) => {\n",
              "      const reader = new FileReader();\n",
              "      reader.onload = (e) => {\n",
              "        resolve(e.target.result);\n",
              "      };\n",
              "      reader.readAsArrayBuffer(file);\n",
              "    });\n",
              "    // Wait for the data to be ready.\n",
              "    let fileData = yield {\n",
              "      promise: fileDataPromise,\n",
              "      response: {\n",
              "        action: 'continue',\n",
              "      }\n",
              "    };\n",
              "\n",
              "    // Use a chunked sending to avoid message size limits. See b/62115660.\n",
              "    let position = 0;\n",
              "    do {\n",
              "      const length = Math.min(fileData.byteLength - position, MAX_PAYLOAD_SIZE);\n",
              "      const chunk = new Uint8Array(fileData, position, length);\n",
              "      position += length;\n",
              "\n",
              "      const base64 = btoa(String.fromCharCode.apply(null, chunk));\n",
              "      yield {\n",
              "        response: {\n",
              "          action: 'append',\n",
              "          file: file.name,\n",
              "          data: base64,\n",
              "        },\n",
              "      };\n",
              "\n",
              "      let percentDone = fileData.byteLength === 0 ?\n",
              "          100 :\n",
              "          Math.round((position / fileData.byteLength) * 100);\n",
              "      percent.textContent = `${percentDone}% done`;\n",
              "\n",
              "    } while (position < fileData.byteLength);\n",
              "  }\n",
              "\n",
              "  // All done.\n",
              "  yield {\n",
              "    response: {\n",
              "      action: 'complete',\n",
              "    }\n",
              "  };\n",
              "}\n",
              "\n",
              "scope.google = scope.google || {};\n",
              "scope.google.colab = scope.google.colab || {};\n",
              "scope.google.colab._files = {\n",
              "  _uploadFiles,\n",
              "  _uploadFilesContinue,\n",
              "};\n",
              "})(self);\n",
              "</script> "
            ]
          },
          "metadata": {}
        }
      ]
    },
    {
      "cell_type": "code",
      "source": [
        "text = open('shahnameh.txt' , 'r').read()"
      ],
      "metadata": {
        "id": "nA1e2T05ychZ"
      },
      "execution_count": null,
      "outputs": []
    },
    {
      "cell_type": "code",
      "source": [
        "text = text.replace('|' , '')\n",
        "print(f'Length of the dataset: {len(text)} characters')\n",
        "print(text[500:1000])"
      ],
      "metadata": {
        "colab": {
          "base_uri": "https://localhost:8080/"
        },
        "id": "DBuGqj4TykbV",
        "outputId": "060c8add-9c93-4cfb-ecc7-1f2a26619279"
      },
      "execution_count": null,
      "outputs": [
        {
          "output_type": "stream",
          "name": "stdout",
          "text": [
            "Length of the dataset: 2554631 characters\n",
            "کی گنجد اوی\n",
            "بدین آلت رای و جان و زبان\n",
            "ستود آفریننده را کی توان\n",
            "به هستیش باید که خستو شوی\n",
            "ز گفتار بی‌کار یکسو شوی\n",
            "پرستنده باشی و جوینده راه\n",
            "به ژرفی به فرمانش کردن نگاه\n",
            "توانا بود هر که دانا بود\n",
            "ز دانش دل پیر برنا بود\n",
            "از این پرده برتر سخن‌گاه نیست\n",
            "ز هستی مر اندیشه را راه نیست\n",
            "کنون ای خردمند وصف خرد\n",
            "بدین جایگه گفتن اندرخورد\n",
            "کنون تا چه داری بیار از خرد\n",
            "که گوش نیوشنده زو برخورد\n",
            "خرد بهتر از هر چه ایزد بداد\n",
            "ستایش خرد را به از راه داد\n",
            "خرد رهنمای و خرد دلگشای\n",
            "خرد دست گیرد به هر دو سرای\n",
            "ازو شادمانی وزویت غ\n"
          ]
        }
      ]
    },
    {
      "cell_type": "code",
      "source": [
        "unique_chars = sorted(set(text))\n",
        "char_to_ind={char :index for index , char in enumerate(unique_chars)}\n",
        "ind_to_char={index :char for index , char in enumerate(unique_chars)}\n",
        "\n",
        "vocab_size = len(unique_chars)\n",
        "print(f\"unique_chars:{vocab_size}\")"
      ],
      "metadata": {
        "colab": {
          "base_uri": "https://localhost:8080/"
        },
        "id": "1H_Ql0u1zGBp",
        "outputId": "3c98ba15-d729-4ec6-95f8-208e2f40437a"
      },
      "execution_count": null,
      "outputs": [
        {
          "output_type": "stream",
          "name": "stdout",
          "text": [
            "unique_chars:47\n"
          ]
        }
      ]
    },
    {
      "cell_type": "code",
      "source": [
        "seq_length = 100\n",
        "\n",
        "input_sequences=[]\n",
        "target_sequences=[]\n",
        "\n",
        "for i in range(len(text) -seq_length ):\n",
        "  input_seq = text[i:i +seq_length]\n",
        "  target_char = text[i +seq_length]\n",
        "  input_sequences.append([char_to_ind[char] for char in input_seq])\n",
        "  target_sequences.append(char_to_ind[target_char])\n",
        "X = np.array(input_sequences)\n",
        "y = np.array(target_sequences)\n",
        "print(f\"input seq shape:{X.shape}\")\n",
        "print(f\"target seq shape:{y.shape}\")"
      ],
      "metadata": {
        "colab": {
          "base_uri": "https://localhost:8080/"
        },
        "id": "BNmlCYg-0uAy",
        "outputId": "0074f378-b08f-4aa0-bacf-dd2b44d33c9e"
      },
      "execution_count": null,
      "outputs": [
        {
          "output_type": "stream",
          "name": "stdout",
          "text": [
            "input seq shape:(2554531, 100)\n",
            "target seq shape:(2554531,)\n"
          ]
        }
      ]
    },
    {
      "cell_type": "code",
      "source": [
        "dataset = tf.data.Dataset.from_tensor_slices((X,y))\n",
        "dataset = dataset.shuffle(buffer_size=10000).batch(128,drop_remainder=False)"
      ],
      "metadata": {
        "id": "sidXxF9W1zZN"
      },
      "execution_count": null,
      "outputs": []
    },
    {
      "cell_type": "code",
      "source": [
        "print(f\"shape of  dataser:{X.shape} ,{y.shape}\")"
      ],
      "metadata": {
        "colab": {
          "base_uri": "https://localhost:8080/"
        },
        "id": "5SvMRqrI2dEd",
        "outputId": "d26be4af-ff2d-438a-c002-dd2069eb5392"
      },
      "execution_count": null,
      "outputs": [
        {
          "output_type": "stream",
          "name": "stdout",
          "text": [
            "shape of  dataser:(2554531, 100) ,(2554531,)\n"
          ]
        }
      ]
    },
    {
      "cell_type": "code",
      "source": [
        "def create_model (vocab_size, embed_dim, rnn_neurons):\n",
        "  model = tf.keras. Sequential([\n",
        "    tf.keras.layers. Embedding (input_dim=vocab_size, output_dim=embed_dim),\n",
        "    tf.keras.layers. LSTM (rnn_neurons),\n",
        "    tf.keras.layers. Dense (vocab_size, activation='softmax')\n",
        "    ])\n",
        "  model.compile(optimizer='adam', loss='sparse_categorical_crossentropy', metrics=['accuracy'])\n",
        "  return model"
      ],
      "metadata": {
        "id": "duxqM1RA38Px"
      },
      "execution_count": null,
      "outputs": []
    },
    {
      "cell_type": "code",
      "source": [
        "embed_dim = 256\n",
        "rnn_neurons=512\n",
        "model = create_model(len(unique_chars), embed_dim,rnn_neurons)"
      ],
      "metadata": {
        "id": "2MXAOR7q4dke"
      },
      "execution_count": null,
      "outputs": []
    },
    {
      "cell_type": "code",
      "source": [
        "model.fit(dataset,epochs=5)"
      ],
      "metadata": {
        "colab": {
          "base_uri": "https://localhost:8080/"
        },
        "id": "S5PBjtMp4n2s",
        "outputId": "380f3c54-a41a-45ed-a6e5-39d343d2f74f"
      },
      "execution_count": null,
      "outputs": [
        {
          "output_type": "stream",
          "name": "stdout",
          "text": [
            "Epoch 1/20\n",
            "\u001b[1m19958/19958\u001b[0m \u001b[32m━━━━━━━━━━━━━━━━━━━━\u001b[0m\u001b[37m\u001b[0m \u001b[1m912s\u001b[0m 45ms/step - accuracy: 0.5241 - loss: 1.5937\n",
            "Epoch 2/20\n",
            "\u001b[1m19958/19958\u001b[0m \u001b[32m━━━━━━━━━━━━━━━━━━━━\u001b[0m\u001b[37m\u001b[0m \u001b[1m925s\u001b[0m 46ms/step - accuracy: 0.6169 - loss: 1.2456\n",
            "Epoch 3/20\n",
            "\u001b[1m19958/19958\u001b[0m \u001b[32m━━━━━━━━━━━━━━━━━━━━\u001b[0m\u001b[37m\u001b[0m \u001b[1m911s\u001b[0m 46ms/step - accuracy: 0.6311 - loss: 1.1946\n",
            "Epoch 4/20\n",
            "\u001b[1m19958/19958\u001b[0m \u001b[32m━━━━━━━━━━━━━━━━━━━━\u001b[0m\u001b[37m\u001b[0m \u001b[1m922s\u001b[0m 46ms/step - accuracy: 0.6382 - loss: 1.1698\n",
            "Epoch 5/20\n",
            "\u001b[1m19958/19958\u001b[0m \u001b[32m━━━━━━━━━━━━━━━━━━━━\u001b[0m\u001b[37m\u001b[0m \u001b[1m921s\u001b[0m 46ms/step - accuracy: 0.6425 - loss: 1.1544\n",
            "Epoch 6/20\n",
            "\u001b[1m19958/19958\u001b[0m \u001b[32m━━━━━━━━━━━━━━━━━━━━\u001b[0m\u001b[37m\u001b[0m \u001b[1m910s\u001b[0m 46ms/step - accuracy: 0.6446 - loss: 1.1475\n",
            "Epoch 7/20\n",
            "\u001b[1m14594/19958\u001b[0m \u001b[32m━━━━━━━━━━━━━━\u001b[0m\u001b[37m━━━━━━\u001b[0m \u001b[1m4:04\u001b[0m 46ms/step - accuracy: 0.6448 - loss: 1.1452"
          ]
        }
      ]
    },
    {
      "cell_type": "code",
      "source": [
        "def generate_text(model, start_seed, gen_size=100, temp=1.0):\n",
        "\n",
        "  num_generate = gen_size\n",
        "  input_eval = [char_to_ind [s] for s in start_seed]\n",
        "  input_eval = tf.expand_dims (input_eval, 0)\n",
        "  text_generated = []\n",
        "  for i in range (num_generate):\n",
        "\n",
        "    predictions = model (input_eval)\n",
        "    predictions = tf.squeeze (predictions, 0)\n",
        "    predictions = predictions / temp\n",
        "    predictions = tf.expand_dims (predictions, 0)\n",
        "    predicted_id = tf.random.categorical (predictions, num_samples=1) [-1, 0].numpy()\n",
        "    input_eval = tf.expand_dims ( [predicted_id], 0)\n",
        "    text_generated.append(ind_to_char [predicted_id])\n",
        "  return start_seed + ''.join(text_generated)\n"
      ],
      "metadata": {
        "id": "dcxHrV8s4yEb"
      },
      "execution_count": null,
      "outputs": []
    },
    {
      "cell_type": "code",
      "source": [
        "print(generate_text(model , 'در دل شب' , gen_size=50))"
      ],
      "metadata": {
        "id": "F7wYKyQf7oW0"
      },
      "execution_count": null,
      "outputs": []
    }
  ]
}